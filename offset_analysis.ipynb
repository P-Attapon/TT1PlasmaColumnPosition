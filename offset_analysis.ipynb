{
 "cells": [
  {
   "cell_type": "markdown",
   "id": "e090db77",
   "metadata": {},
   "source": [
    "# Determine the offset values\n",
    "\n",
    "Using the frames where the plasma is expected to be at the centroid, the relationship between the offset value in each probe array and plasma current is determined"
   ]
  },
  {
   "cell_type": "markdown",
   "id": "62f7feef",
   "metadata": {},
   "source": [
    "## approximate frames at centroid"
   ]
  },
  {
   "cell_type": "code",
   "execution_count": 5,
   "id": "d45aef4e",
   "metadata": {},
   "outputs": [],
   "source": [
    "import cv2\n",
    "import shutil\n",
    "from matplotlib import pyplot as plt\n",
    "from skimage.metrics import structural_similarity\n",
    "from tqdm import tqdm\n",
    "\n",
    "retreive_img_directory = lambda shot_no: f\"resources\\\\TTI frame\\\\{shot_no}\\\\{shot_no}_frames_jpg\\\\\"\n",
    "centroid_directory = r\"resources\\\\centroidFrames\"\n",
    "\n",
    "img_directory =  retreive_img_directory(966)\n",
    "\n",
    "all_shot_no = [370,433,582,665,920,926,928] + list(range(960,971)) + [1108,1275,1745,1804,2308]\n",
    "base_frame_dict = {\n",
    "    433:187, 582:160, 665:189, 926:160, 960:155, 961:192, 962:199, 963:155, 964: 154, 965: 200, 966:200, 967:208, 968:154,969:205,\n",
    "    970:209,1108:184,1275:184,1745:181,1804:189,2308:198\n",
    "}"
   ]
  },
  {
   "cell_type": "code",
   "execution_count": null,
   "id": "0e9dca93",
   "metadata": {},
   "outputs": [],
   "source": [
    "similarity = []\n",
    "for shot_no in all_shot_no:\n",
    "    if shot_no in [370,920,928]:continue\n",
    "\n",
    "    img_directory = retreive_img_directory(shot_no)\n",
    "    for i in [-1,0,1]:\n",
    "        frame = base_frame_dict[shot_no] + i\n",
    "        img_path = img_directory + f\"{frame}.jpg\"\n",
    "        shutil.copy(img_path,centroid_directory + f\"\\\\{shot_no}_{frame}.jpg\")"
   ]
  },
  {
   "cell_type": "markdown",
   "id": "8fc15bcb",
   "metadata": {},
   "source": [
    "## Calculate offset for each frame"
   ]
  },
  {
   "cell_type": "code",
   "execution_count": 6,
   "id": "054809fd",
   "metadata": {},
   "outputs": [],
   "source": [
    "from toroidalFilament_dir.geometry_TT1 import all_arrays, coil_angle_dict, probe_lst_to_str\n",
    "from toroidalFilament_dir.DxDz import cal_newton_DxDz as cal_DxDz\n",
    "from toroidalFilament_dir.signal_strength import cal_signal\n",
    "from process_probe_data import retreive_plasma_current,retreive_magnetic_signal, trim_quantities, discharge_duration\n",
    "\n",
    "import numpy as np\n",
    "import os\n",
    "import pandas as pd\n",
    "\n",
    "Ip_df = pd.read_excel(os.getcwd() + r\"\\resources\\magneticSignal\\Plasma current for plasma position.xlsx\",sheet_name=\"Sheet1\")\n",
    "probe_signal_path = os.getcwd() + r\"\\resources\\magneticSignal\\Magnetic probe GBP_T for plasma position.xlsx\"\n"
   ]
  },
  {
   "cell_type": "code",
   "execution_count": 7,
   "id": "3bb0270e",
   "metadata": {},
   "outputs": [
    {
     "name": "stdout",
     "output_type": "stream",
     "text": [
      "mean value of Dx at centroid is -0.204920003280666 m\n"
     ]
    }
   ],
   "source": [
    "x_shift, z_shift = 0,0\n",
    "\n",
    "center_Dx = []\n",
    "for probe_arr in all_arrays:\n",
    "    probe_angles = [coil_angle_dict[probe] for probe in probe_arr]\n",
    "    signal = cal_signal(x_shift,z_shift,probe_angles)\n",
    "    Dx, Dz = cal_DxDz(signal,probe_angles)\n",
    "    center_Dx.append(Dx)\n",
    "\n",
    "mean_Dx_offset = np.mean(center_Dx)\n",
    "\n",
    "print(\"mean value of Dx at centroid is\" + f\" {mean_Dx_offset} m\")"
   ]
  },
  {
   "cell_type": "code",
   "execution_count": 8,
   "id": "f7c5043d",
   "metadata": {},
   "outputs": [],
   "source": [
    "def find_closest(arr, target): #use binary search to find element with closest value to the target\n",
    "    res = arr[0]\n",
    "    lo = 0\n",
    "    hi = len(arr) - 1\n",
    "\n",
    "    while lo <= hi:\n",
    "        mid = lo + (hi - lo) // 2\n",
    "\n",
    "        # Update res if mid is closer to target\n",
    "        if abs(arr[mid] - target) < abs(res - target):\n",
    "            res = arr[mid]\n",
    "\n",
    "        # In case of a tie, prefer larger value\n",
    "        elif abs(arr[mid] - target) == abs(res - target):\n",
    "            res = max(res, arr[mid])\n",
    "\n",
    "        if arr[mid] == target:\n",
    "            return arr[mid]\n",
    "        elif arr[mid] < target:\n",
    "            lo = mid + 1\n",
    "        else:\n",
    "            hi = mid - 1\n",
    "\n",
    "    return res"
   ]
  },
  {
   "cell_type": "code",
   "execution_count": 9,
   "id": "e90a72c3",
   "metadata": {},
   "outputs": [
    {
     "name": "stderr",
     "output_type": "stream",
     "text": [
      "  0%|          | 0/60 [00:00<?, ?it/s]"
     ]
    },
    {
     "name": "stderr",
     "output_type": "stream",
     "text": [
      "100%|██████████| 60/60 [03:06<00:00,  3.11s/it]\n"
     ]
    }
   ],
   "source": [
    "# Precompute keys and angles\n",
    "probe_keys = [probe_lst_to_str(arr) for arr in all_arrays]\n",
    "probe_angles = {\n",
    "    probe_lst_to_str(arr): [coil_angle_dict[p] for p in arr]\n",
    "    for arr in all_arrays\n",
    "}\n",
    "\n",
    "offset_dict = {\n",
    "    key: [[], []] for key in probe_keys\n",
    "}\n",
    "\n",
    "# Cache for Excel files and column indices\n",
    "excel_cache = {}  # shot_no -> DataFrame\n",
    "column_index_cache = {}  # (shot_no, probe_key) -> list of indices\n",
    "\n",
    "def time_from_frame(frame):\n",
    "    time = frame / 2 + 260 \n",
    "    return find_closest(Ip_df[\"Time [ms]\"], time)\n",
    "\n",
    "def find_Ip(shot_no, time):\n",
    "    row = Ip_df.loc[Ip_df[\"Time [ms]\"] == time].index[0]\n",
    "    col = Ip_df.columns.get_loc(shot_no)\n",
    "    return Ip_df.iloc[row, col]\n",
    "\n",
    "def get_signal_df(shot_no):\n",
    "    if shot_no not in excel_cache:\n",
    "        #retrieve signal and plasma current to remove noise\n",
    "        signal_df = pd.read_excel(probe_signal_path, sheet_name=f\"shot_{shot_no}\")\n",
    "        Ip_df,time_df,t1, t2 = retreive_plasma_current(shot_no)\n",
    "        time_df,_, trimmed_signal_df = trim_quantities(time_df,signal_df,Ip_df,t1,t2)\n",
    "        excel_cache[shot_no] = [time_df,trimmed_signal_df]\n",
    "\n",
    "    return excel_cache[shot_no]\n",
    "\n",
    "def find_signal(shot_no, time, probe_arr, probe_key):\n",
    "    time_df, signal_df = get_signal_df(shot_no)\n",
    "\n",
    "    if (shot_no, probe_key) not in column_index_cache:\n",
    "        use_columns = [f\"GBP{i}T\" for i in probe_arr]\n",
    "        column_index_cache[(shot_no, probe_key)] = [\n",
    "            signal_df.columns.get_loc(col) for col in use_columns\n",
    "        ]\n",
    "\n",
    "\n",
    "    col_indices = column_index_cache[(shot_no, probe_key)]\n",
    "    row = time_df[time_df == time].index[0]\n",
    "    row = time_df.index.get_loc(row)\n",
    "\n",
    "    return [signal_df.iloc[row, col] for col in col_indices]\n",
    "\n",
    "def cal_offset(Dx, Dx0=mean_Dx_offset):\n",
    "    return Dx0 - Dx\n",
    "\n",
    "shot_no_from_path = lambda path: int(''.join(filter(str.isdigit, path[0:4])))\n",
    "frame_from_path = lambda path: int(path[-7:-4])\n",
    "\n",
    "for img_path in tqdm(os.listdir(r\"resources\\centroidFrames\")):\n",
    "    try:\n",
    "        shot_no = shot_no_from_path(img_path)\n",
    "\n",
    "        #retrieve frame number from the file name\n",
    "        frame = frame_from_path(img_path)\n",
    "\n",
    "        #find plasma current at time of frame\n",
    "        time = time_from_frame(frame)\n",
    "        Ip = find_Ip(shot_no, time)\n",
    "\n",
    "        for probe_arr in all_arrays:\n",
    "            probe_key = probe_lst_to_str(probe_arr)\n",
    "            signal = find_signal(shot_no, time, probe_arr, probe_key)\n",
    "\n",
    "            angles = probe_angles[probe_key]\n",
    "            Dx, Dz = cal_DxDz(signal, c_angle=angles)\n",
    "            offset_Dx = cal_offset(Dx)\n",
    "\n",
    "            offset_dict[probe_key][0].append(Ip)\n",
    "            offset_dict[probe_key][1].append(offset_Dx)\n",
    "    except KeyError:\n",
    "        continue"
   ]
  },
  {
   "cell_type": "code",
   "execution_count": 41,
   "id": "46dd1c95",
   "metadata": {},
   "outputs": [
    {
     "data": {
      "text/plain": [
       "Text(0.5, 1.0, 'Dx offset as a function of Ip')"
      ]
     },
     "execution_count": 41,
     "metadata": {},
     "output_type": "execute_result"
    },
    {
     "data": {
      "image/png": "[encoded data removed]",
      "text/plain": [
       "<Figure size 640x480 with 1 Axes>"
      ]
     },
     "metadata": {},
     "output_type": "display_data"
    }
   ],
   "source": [
    "from sklearn.linear_model import RANSACRegressor\n",
    "from sklearn.linear_model import LinearRegression\n",
    "\n",
    "for key in offset_dict:\n",
    "    Ip_list, offset_list = offset_dict[key]\n",
    "    if Ip_list:  # only sort if not empty\n",
    "        sorted_pairs = sorted(zip(Ip_list, offset_list))\n",
    "        offset_dict[key][0], offset_dict[key][1] = map(list, zip(*sorted_pairs))\n",
    "\n",
    "for key in [probe_lst_to_str(probe_arr) for probe_arr in [[2,3,8,9],[12,2,6,8],[12,3,6,9]]]:\n",
    "    Ip_list = offset_dict[key][0]\n",
    "    offset_list = offset_dict[key][1]\n",
    "    \n",
    "    if len(Ip_list) >= 2:\n",
    "        # Convert to numpy arrays and reshape for sklearn\n",
    "        X = np.array(Ip_list).reshape(-1, 1)\n",
    "        y = np.array(offset_list)\n",
    "\n",
    "        # Create RANSAC regressor\n",
    "        ransac = RANSACRegressor(LinearRegression(), residual_threshold=0.3, random_state=0)\n",
    "        ransac.fit(X, y)\n",
    "\n",
    "        # Predict with inlier model\n",
    "        x_vals = np.linspace(min(Ip_list), max(Ip_list), 100).reshape(-1, 1)\n",
    "        y_fit = ransac.predict(x_vals)\n",
    "\n",
    "        # Plot original data\n",
    "        data_line, = plt.plot(Ip_list, offset_list, \".\", label=f\"{key}\")\n",
    "        color = data_line.get_color()\n",
    "\n",
    "        # Plot RANSAC regression line\n",
    "        plt.plot(x_vals, y_fit, \"--\", color=color)\n",
    "\n",
    "        plt.title(f\"Key: {key}\")\n",
    "        plt.xlabel(\"Ip [kA]\")\n",
    "        plt.ylabel(\"Dx offset [m]\")\n",
    "        plt.grid(True)\n",
    "\n",
    "plt.legend(title = \"Probe number GBPXT\")\n",
    "plt.title(\"Dx offset as a function of Ip\")\n",
    "# plt.ylim(-2,2)"
   ]
  },
  {
   "cell_type": "code",
   "execution_count": null,
   "id": "66235ac1",
   "metadata": {},
   "outputs": [],
   "source": []
  }
 ],
 "metadata": {
  "kernelspec": {
   "display_name": "base",
   "language": "python",
   "name": "python3"
  },
  "language_info": {
   "codemirror_mode": {
    "name": "ipython",
    "version": 3
   },
   "file_extension": ".py",
   "mimetype": "text/x-python",
   "name": "python",
   "nbconvert_exporter": "python",
   "pygments_lexer": "ipython3",
   "version": "3.12.7"
  }
 },
 "nbformat": 4,
 "nbformat_minor": 5
}
