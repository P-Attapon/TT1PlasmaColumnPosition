{
 "cells": [
  {
   "cell_type": "markdown",
   "id": "e090db77",
   "metadata": {},
   "source": [
    "# Determine the offset values\n",
    "\n",
    "Using the frames where the plasma is expected to be at the centroid, the relationship between the offset value in each probe array and plasma current is determined"
   ]
  },
  {
   "cell_type": "markdown",
   "id": "62f7feef",
   "metadata": {},
   "source": [
    "## approximate frames at centroid"
   ]
  },
  {
   "cell_type": "code",
   "execution_count": 1,
   "id": "d45aef4e",
   "metadata": {},
   "outputs": [],
   "source": [
    "import cv2\n",
    "import shutil\n",
    "from matplotlib import pyplot as plt\n",
    "from skimage.metrics import structural_similarity\n",
    "from tqdm import tqdm\n",
    "\n",
    "retreive_img_directory = lambda shot_no: f\"resources\\\\TTI frame\\\\{shot_no}\\\\{shot_no}_frames_jpg\\\\\"\n",
    "centroid_directory = r\"resources\\\\centroidFrames\"\n",
    "\n",
    "img_directory =  retreive_img_directory(966)\n",
    "\n",
    "all_shot_no = [370,433,582,665,920,926,928] + list(range(960,971)) + [1108,1275,1745,1804,2308]\n",
    "base_frame_dict = {\n",
    "    433:187, 582:160, 665:189, 926:160, 960:155, 961:192, 962:199, 963:155, 964: 154, 965: 200, 966:200, 967:208, 968:154,969:205,\n",
    "    970:209,1108:184,1275:184,1745:181,1804:189,2308:198\n",
    "}"
   ]
  },
  {
   "cell_type": "code",
   "execution_count": null,
   "id": "0e9dca93",
   "metadata": {},
   "outputs": [],
   "source": [
    "similarity = []\n",
    "for shot_no in all_shot_no:\n",
    "    if shot_no in [370,920,928]:continue\n",
    "\n",
    "    img_directory = retreive_img_directory(shot_no)\n",
    "    for i in [-1,0,1]:\n",
    "        frame = base_frame_dict[shot_no] + i\n",
    "        img_path = img_directory + f\"{frame}.jpg\"\n",
    "        shutil.copy(img_path,centroid_directory + f\"\\\\{shot_no}_{frame}.jpg\")"
   ]
  },
  {
   "cell_type": "markdown",
   "id": "8fc15bcb",
   "metadata": {},
   "source": [
    "## Calculate offset for each frame"
   ]
  },
  {
   "cell_type": "code",
   "execution_count": 20,
   "id": "054809fd",
   "metadata": {},
   "outputs": [],
   "source": [
    "from toroidalFilament_dir.geometry_TT1 import all_arrays, coil_angle_dict, probe_lst_to_str\n",
    "from toroidalFilament_dir.DxDz import cal_newton_DxDz as cal_DxDz\n",
    "from toroidalFilament_dir.signal_strength import cal_signal\n",
    "\n",
    "import numpy as np\n",
    "import os\n",
    "import pandas as pd\n",
    "\n",
    "Ip_df = pd.read_excel(r\"C:\\Users\\pitit\\Documents\\02_MUIC_programming\\ICPY_441_Senior_project_in_physics\\plasmaColumnPosition\\resources\\magneticSignal\\Plasma current for plasma position.xlsx\",sheet_name=\"Sheet1\")"
   ]
  },
  {
   "cell_type": "code",
   "execution_count": 6,
   "id": "3bb0270e",
   "metadata": {},
   "outputs": [
    {
     "name": "stdout",
     "output_type": "stream",
     "text": [
      "mean value of Dx at centroid is -0.204920003280666 m\n"
     ]
    }
   ],
   "source": [
    "x_shift, z_shift = 0,0\n",
    "\n",
    "center_Dx = []\n",
    "for probe_arr in all_arrays:\n",
    "    probe_angles = [coil_angle_dict[probe] for probe in probe_arr]\n",
    "    signal = cal_signal(x_shift,z_shift,probe_angles)\n",
    "    Dx, Dz = cal_DxDz(signal,probe_angles)\n",
    "    center_Dx.append(Dx)\n",
    "\n",
    "mean_Dx_offset = np.mean(center_Dx)\n",
    "\n",
    "print(\"mean value of Dx at centroid is\" + f\" {mean_Dx_offset} m\")"
   ]
  },
  {
   "cell_type": "code",
   "execution_count": null,
   "id": "f7c5043d",
   "metadata": {},
   "outputs": [
    {
     "data": {
      "text/plain": [
       "149.994"
      ]
     },
     "execution_count": 34,
     "metadata": {},
     "output_type": "execute_result"
    }
   ],
   "source": [
    "def find_closest(arr, target): #use binary search to find element with closest value to the target\n",
    "    res = arr[0]\n",
    "    lo = 0\n",
    "    hi = len(arr) - 1\n",
    "\n",
    "    while lo <= hi:\n",
    "        mid = lo + (hi - lo) // 2\n",
    "\n",
    "        # Update res if mid is closer to target\n",
    "        if abs(arr[mid] - target) < abs(res - target):\n",
    "            res = arr[mid]\n",
    "\n",
    "        # In case of a tie, prefer larger value\n",
    "        elif abs(arr[mid] - target) == abs(res - target):\n",
    "            res = max(res, arr[mid])\n",
    "\n",
    "        if arr[mid] == target:\n",
    "            return arr[mid]\n",
    "        elif arr[mid] < target:\n",
    "            lo = mid + 1\n",
    "        else:\n",
    "            hi = mid - 1\n",
    "\n",
    "    return res"
   ]
  },
  {
   "cell_type": "code",
   "execution_count": null,
   "id": "45d36183",
   "metadata": {},
   "outputs": [
    {
     "name": "stdout",
     "output_type": "stream",
     "text": [
      "61620.425781\n"
     ]
    },
    {
     "ename": "TypeError",
     "evalue": "'NoneType' object is not subscriptable",
     "output_type": "error",
     "traceback": [
      "\u001b[1;31m---------------------------------------------------------------------------\u001b[0m",
      "\u001b[1;31mTypeError\u001b[0m                                 Traceback (most recent call last)",
      "Cell \u001b[1;32mIn[43], line 42\u001b[0m\n\u001b[0;32m     39\u001b[0m signal \u001b[38;5;241m=\u001b[39m find_signal(shot_no, time,probe_arr)\n\u001b[0;32m     41\u001b[0m \u001b[38;5;66;03m#calculate original Dx and Dz\u001b[39;00m\n\u001b[1;32m---> 42\u001b[0m Dx, Dz \u001b[38;5;241m=\u001b[39m cal_DxDz(signal,c_angle \u001b[38;5;241m=\u001b[39m [coil_angle_dict[probe_num] \u001b[38;5;28;01mfor\u001b[39;00m probe_num \u001b[38;5;129;01min\u001b[39;00m probe_arr])\n\u001b[0;32m     44\u001b[0m \u001b[38;5;66;03m#calculate offset\u001b[39;00m\n\u001b[0;32m     45\u001b[0m offset_Dx \u001b[38;5;241m=\u001b[39m cal_offset(Dx)\n",
      "File \u001b[1;32mc:\\Users\\pitit\\Documents\\02_MUIC_programming\\ICPY_441_Senior_project_in_physics\\plasmaColumnPosition\\toroidalFilament_dir\\DxDz.py:21\u001b[0m, in \u001b[0;36mcal_newton_DxDz\u001b[1;34m(signal, c_angle)\u001b[0m\n\u001b[0;32m     13\u001b[0m \u001b[38;5;250m\u001b[39m\u001b[38;5;124;03m\"\"\"\u001b[39;00m\n\u001b[0;32m     14\u001b[0m \u001b[38;5;124;03mcalculate Dx&Dz using matrix form\u001b[39;00m\n\u001b[0;32m     15\u001b[0m \n\u001b[1;32m   (...)\u001b[0m\n\u001b[0;32m     18\u001b[0m \u001b[38;5;124;03mc_angle (NDArray[np.float64]): array of angle of each magnetic probe with respect to the x-axis\u001b[39;00m\n\u001b[0;32m     19\u001b[0m \u001b[38;5;124;03m\"\"\"\u001b[39;00m\n\u001b[0;32m     20\u001b[0m phi1, phi2 \u001b[38;5;241m=\u001b[39m c_angle[\u001b[38;5;241m0\u001b[39m], c_angle[\u001b[38;5;241m1\u001b[39m]\n\u001b[1;32m---> 21\u001b[0m frac1, frac2 \u001b[38;5;241m=\u001b[39m (signal[\u001b[38;5;241m0\u001b[39m] \u001b[38;5;241m-\u001b[39m signal[\u001b[38;5;241m2\u001b[39m])\u001b[38;5;241m/\u001b[39m(signal[\u001b[38;5;241m0\u001b[39m] \u001b[38;5;241m+\u001b[39m signal[\u001b[38;5;241m2\u001b[39m]), (signal[\u001b[38;5;241m1\u001b[39m] \u001b[38;5;241m-\u001b[39m signal[\u001b[38;5;241m3\u001b[39m])\u001b[38;5;241m/\u001b[39m(signal[\u001b[38;5;241m1\u001b[39m] \u001b[38;5;241m+\u001b[39m signal[\u001b[38;5;241m3\u001b[39m])\n\u001b[0;32m     23\u001b[0m Dx \u001b[38;5;241m=\u001b[39m \u001b[38;5;241m-\u001b[39mR\u001b[38;5;241m/\u001b[39mnp\u001b[38;5;241m.\u001b[39msin(phi1\u001b[38;5;241m-\u001b[39mphi2) \u001b[38;5;241m*\u001b[39m ( frac1\u001b[38;5;241m*\u001b[39mnp\u001b[38;5;241m.\u001b[39msin(phi2) \u001b[38;5;241m-\u001b[39m frac2\u001b[38;5;241m*\u001b[39mnp\u001b[38;5;241m.\u001b[39msin(phi1) )\n\u001b[0;32m     24\u001b[0m Dz \u001b[38;5;241m=\u001b[39m \u001b[38;5;241m-\u001b[39mR\u001b[38;5;241m/\u001b[39mnp\u001b[38;5;241m.\u001b[39msin(phi1\u001b[38;5;241m-\u001b[39mphi2) \u001b[38;5;241m*\u001b[39m ( \u001b[38;5;241m-\u001b[39mfrac1\u001b[38;5;241m*\u001b[39mnp\u001b[38;5;241m.\u001b[39mcos(phi2) \u001b[38;5;241m+\u001b[39m frac2\u001b[38;5;241m*\u001b[39mnp\u001b[38;5;241m.\u001b[39mcos(phi1) )\n",
      "\u001b[1;31mTypeError\u001b[0m: 'NoneType' object is not subscriptable"
     ]
    }
   ],
   "source": [
    "keys = [probe_lst_to_str(probe_arr) for probe_arr in all_arrays]\n",
    "offset_dict = {\n",
    "    #index 0 -> plasma current\n",
    "    #index 1 -> Dx offset\n",
    "    probe_arr : [[],[]] for probe_arr in keys \n",
    "}\n",
    "\n",
    "def time_from_frame(frame):\n",
    "    time = frame/2 + 260 \n",
    "    return find_closest(Ip_df[\"Time [ms]\"],time)\n",
    "\n",
    "def find_Ip(shot_no,time):\n",
    "    row = Ip_df.loc[Ip_df[\"Time [ms]\"] == time].index[0]\n",
    "    column = Ip_df.columns.get_loc(shot_no)\n",
    "    return Ip_df.iloc[row,column]\n",
    "\n",
    "def find_signal(shot_no,time,probe_arr):\n",
    "    return \n",
    "\n",
    "def cal_offset(Dx,Dx0 = mean_Dx_offset):\n",
    "    return Dx - Dx0\n",
    "\n",
    "shot_no_from_path = lambda path: path[0:4]\n",
    "frame_from_path = lambda path: path[-7:-4]\n",
    "\n",
    "for img_path in os.listdir(r\"resources\\centroidFrames\"):\n",
    "    #determine shot number and frame of the frame to be analyzed\n",
    "    shot_no = int(shot_no_from_path(img_path))\n",
    "    frame = int(frame_from_path(img_path))\n",
    "\n",
    "    time = time_from_frame(frame)\n",
    "\n",
    "    #determine plasma current of given shot and frame\n",
    "    Ip = find_Ip(shot_no,time)\n",
    "\n",
    "    for probe_arr in all_arrays:\n",
    "        #retreive signal at time\n",
    "        signal = find_signal(shot_no, time,probe_arr)\n",
    "\n",
    "        #calculate original Dx and Dz\n",
    "        Dx, Dz = cal_DxDz(signal,c_angle = [coil_angle_dict[probe_num] for probe_num in probe_arr])\n",
    "\n",
    "        #calculate offset\n",
    "        offset_Dx = cal_offset(Dx)\n",
    "\n",
    "        probe_key = probe_lst_to_str(probe_arr)\n",
    "        offset_dict[probe_key][0].append(Ip)\n",
    "        offset_dict[probe_key][1].append(offset_Dx)"
   ]
  },
  {
   "cell_type": "code",
   "execution_count": null,
   "id": "e90a72c3",
   "metadata": {},
   "outputs": [],
   "source": []
  }
 ],
 "metadata": {
  "kernelspec": {
   "display_name": "base",
   "language": "python",
   "name": "python3"
  },
  "language_info": {
   "codemirror_mode": {
    "name": "ipython",
    "version": 3
   },
   "file_extension": ".py",
   "mimetype": "text/x-python",
   "name": "python",
   "nbconvert_exporter": "python",
   "pygments_lexer": "ipython3",
   "version": "3.12.7"
  }
 },
 "nbformat": 4,
 "nbformat_minor": 5
}
