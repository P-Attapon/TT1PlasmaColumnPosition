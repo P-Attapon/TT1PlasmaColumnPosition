{
 "cells": [
  {
   "cell_type": "code",
   "execution_count": 1,
   "id": "ff0d816d",
   "metadata": {},
   "outputs": [],
   "source": [
    "import numpy as np\n",
    "from matplotlib import pyplot as plt\n",
    "import pandas as pd\n",
    "from process_probe_data import retreive_plasma_current, retreive_magnetic_signal,trim_quantities"
   ]
  },
  {
   "cell_type": "code",
   "execution_count": 2,
   "id": "750a603f",
   "metadata": {},
   "outputs": [
    {
     "ename": "UFuncTypeError",
     "evalue": "ufunc 'less' did not contain a loop with signature matching types (<class 'numpy.dtypes.Float64DType'>, <class 'numpy.dtypes.StrDType'>) -> None",
     "output_type": "error",
     "traceback": [
      "\u001b[1;31m---------------------------------------------------------------------------\u001b[0m",
      "\u001b[1;31mUFuncTypeError\u001b[0m                            Traceback (most recent call last)",
      "Cell \u001b[1;32mIn[2], line 4\u001b[0m\n\u001b[0;32m      1\u001b[0m recorded_plasma_current, recorded_time, discharge_begin, discharge_end \u001b[38;5;241m=\u001b[39m retreive_plasma_current(\u001b[38;5;241m966\u001b[39m)\n\u001b[0;32m      2\u001b[0m recorded_magnetic_signal \u001b[38;5;241m=\u001b[39m retreive_magnetic_signal(\u001b[38;5;241m966\u001b[39m)\n\u001b[1;32m----> 4\u001b[0m time, plasma_current, plasma_signal \u001b[38;5;241m=\u001b[39m trim_quantities(recorded_time,recorded_magnetic_signal,recorded_plasma_current,discharge_begin,discharge_end)\n",
      "File \u001b[1;32mc:\\Users\\pitit\\Documents\\02_MUIC_programming\\ICPY_441_Senior_project_in_physics\\plasmaColumnPosition\\process_probe_data.py:98\u001b[0m, in \u001b[0;36mtrim_quantities\u001b[1;34m(recorded_time_df, magnetic_signal_df, recorded_plasma_current_df, t1, t2)\u001b[0m\n\u001b[0;32m     95\u001b[0m trimmed_plasma_current_df \u001b[38;5;241m=\u001b[39m recorded_plasma_current_df[(recorded_time_df \u001b[38;5;241m>\u001b[39m t1) \u001b[38;5;241m&\u001b[39m (recorded_time_df \u001b[38;5;241m<\u001b[39m t2)]\n\u001b[0;32m     97\u001b[0m \u001b[38;5;66;03m#extract region within interval\u001b[39;00m\n\u001b[1;32m---> 98\u001b[0m trimmed_magnetic_signal_df \u001b[38;5;241m=\u001b[39m magnetic_signal_df[(magnetic_signal_df[\u001b[38;5;124m\"\u001b[39m\u001b[38;5;124mTime (ms)\u001b[39m\u001b[38;5;124m\"\u001b[39m \u001b[38;5;241m>\u001b[39m t1]) \u001b[38;5;241m&\u001b[39m (magnetic_signal_df[\u001b[38;5;124m\"\u001b[39m\u001b[38;5;124mTime (ms)\u001b[39m\u001b[38;5;124m\"\u001b[39m] \u001b[38;5;241m<\u001b[39m t2)]\n\u001b[0;32m    100\u001b[0m \u001b[38;5;66;03m#remove noise using signal at t1\u001b[39;00m\n\u001b[0;32m    101\u001b[0m trimmed_magnetic_signal_df \u001b[38;5;241m=\u001b[39m trimmed_magnetic_signal_df \u001b[38;5;241m-\u001b[39m trimmed_magnetic_signal_df\u001b[38;5;241m.\u001b[39miloc[\u001b[38;5;241m0\u001b[39m]\n",
      "\u001b[1;31mUFuncTypeError\u001b[0m: ufunc 'less' did not contain a loop with signature matching types (<class 'numpy.dtypes.Float64DType'>, <class 'numpy.dtypes.StrDType'>) -> None"
     ]
    }
   ],
   "source": [
    "recorded_plasma_current, recorded_time, discharge_begin, discharge_end = retreive_plasma_current(966)\n",
    "recorded_magnetic_signal = retreive_magnetic_signal(966)\n",
    "\n",
    "time, plasma_current, plasma_signal = trim_quantities(recorded_time,recorded_magnetic_signal,recorded_plasma_current,discharge_begin,discharge_end)"
   ]
  },
  {
   "cell_type": "code",
   "execution_count": null,
   "id": "a7214646",
   "metadata": {},
   "outputs": [],
   "source": []
  }
 ],
 "metadata": {
  "kernelspec": {
   "display_name": "base",
   "language": "python",
   "name": "python3"
  },
  "language_info": {
   "codemirror_mode": {
    "name": "ipython",
    "version": 3
   },
   "file_extension": ".py",
   "mimetype": "text/x-python",
   "name": "python",
   "nbconvert_exporter": "python",
   "pygments_lexer": "ipython3",
   "version": "3.12.7"
  }
 },
 "nbformat": 4,
 "nbformat_minor": 5
}
