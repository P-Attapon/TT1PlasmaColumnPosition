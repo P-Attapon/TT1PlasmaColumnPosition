{
 "cells": [
  {
   "cell_type": "markdown",
   "id": "683cc85f",
   "metadata": {},
   "source": [
    "# Process data from sampling to computable data\n",
    "\n",
    "add new samples files into the existing working directory"
   ]
  },
  {
   "cell_type": "code",
   "execution_count": 10,
   "id": "9c64c5ee",
   "metadata": {},
   "outputs": [],
   "source": [
    "import cv2\n",
    "import os\n",
    "from openpyxl import Workbook, load_workbook\n",
    "import re\n",
    "from tqdm import tqdm\n",
    "import shutil\n",
    "\n",
    "\n",
    "sample_path = r\"C:\\Users\\pitit\\Documents\\02_MUIC_programming\\ICPY_441_Senior_project_in_physics\\plasmaColumnPosition\\resources\\Sampling\"\n",
    "folders = [os.path.join(sample_path, f) for f in os.listdir(sample_path) if os.path.isdir(os.path.join(sample_path, f))]"
   ]
  },
  {
   "cell_type": "markdown",
   "id": "a7dfcc5e",
   "metadata": {},
   "source": [
    "## video to frames"
   ]
  },
  {
   "cell_type": "code",
   "execution_count": 11,
   "id": "c731d7de",
   "metadata": {},
   "outputs": [
    {
     "name": "stderr",
     "output_type": "stream",
     "text": [
      "<string>:27: SyntaxWarning: invalid escape sequence '\\{'\n",
      "<>:27: SyntaxWarning: invalid escape sequence '\\{'\n",
      "<string>:27: SyntaxWarning: invalid escape sequence '\\{'\n",
      "<>:27: SyntaxWarning: invalid escape sequence '\\{'\n",
      "C:\\Users\\Public\\Documents\\Wondershare\\CreatorTemp\\ipykernel_144128\\2876241390.py:27: SyntaxWarning: invalid escape sequence '\\{'\n",
      "  output_path = os.path.join(output_folder, f\"{shot_no}_frames_jpg\\{frame_count}.jpg\")\n"
     ]
    },
    {
     "name": "stdout",
     "output_type": "stream",
     "text": [
      "C:\\Users\\pitit\\Documents\\02_MUIC_programming\\ICPY_441_Senior_project_in_physics\\plasmaColumnPosition\\resources\\TTI frame\\\\1108\\1108_frames_jpg\n",
      "C:\\Users\\pitit\\Documents\\02_MUIC_programming\\ICPY_441_Senior_project_in_physics\\plasmaColumnPosition\\resources\\TTI frame\\\\1275\\1275_frames_jpg\n",
      "C:\\Users\\pitit\\Documents\\02_MUIC_programming\\ICPY_441_Senior_project_in_physics\\plasmaColumnPosition\\resources\\TTI frame\\\\1745\\1745_frames_jpg\n",
      "C:\\Users\\pitit\\Documents\\02_MUIC_programming\\ICPY_441_Senior_project_in_physics\\plasmaColumnPosition\\resources\\TTI frame\\\\1804\\1804_frames_jpg\n",
      "C:\\Users\\pitit\\Documents\\02_MUIC_programming\\ICPY_441_Senior_project_in_physics\\plasmaColumnPosition\\resources\\TTI frame\\\\2308\\2308_frames_jpg\n",
      "C:\\Users\\pitit\\Documents\\02_MUIC_programming\\ICPY_441_Senior_project_in_physics\\plasmaColumnPosition\\resources\\TTI frame\\\\370\\370_frames_jpg\n",
      "C:\\Users\\pitit\\Documents\\02_MUIC_programming\\ICPY_441_Senior_project_in_physics\\plasmaColumnPosition\\resources\\TTI frame\\\\433\\433_frames_jpg\n",
      "C:\\Users\\pitit\\Documents\\02_MUIC_programming\\ICPY_441_Senior_project_in_physics\\plasmaColumnPosition\\resources\\TTI frame\\\\582\\582_frames_jpg\n",
      "C:\\Users\\pitit\\Documents\\02_MUIC_programming\\ICPY_441_Senior_project_in_physics\\plasmaColumnPosition\\resources\\TTI frame\\\\665\\665_frames_jpg\n",
      "C:\\Users\\pitit\\Documents\\02_MUIC_programming\\ICPY_441_Senior_project_in_physics\\plasmaColumnPosition\\resources\\TTI frame\\\\920\\920_frames_jpg\n",
      "C:\\Users\\pitit\\Documents\\02_MUIC_programming\\ICPY_441_Senior_project_in_physics\\plasmaColumnPosition\\resources\\TTI frame\\\\926\\926_frames_jpg\n",
      "C:\\Users\\pitit\\Documents\\02_MUIC_programming\\ICPY_441_Senior_project_in_physics\\plasmaColumnPosition\\resources\\TTI frame\\\\928\\928_frames_jpg\n"
     ]
    }
   ],
   "source": [
    "def extract_frames(shot_no,video_path, output_folder):\n",
    "    \"\"\"\n",
    "    Extracts each frame from a video and saves it as a JPEG image.\n",
    "\n",
    "    Args:\n",
    "        video_path: Path to the input video file.\n",
    "        output_folder: Path to the folder where the extracted frames will be saved.\n",
    "    \"\"\"\n",
    "\n",
    "    output_folder = output_folder + f\"{shot_no}\"\n",
    "\n",
    "    if not os.path.exists(output_folder):\n",
    "        os.makedirs(output_folder)\n",
    "        shutil.copy(video_path,output_folder)\n",
    "\n",
    "        os.makedirs(os.path.join(output_folder, f\"{shot_no}_frames_jpg\"))\n",
    "\n",
    "    video_capture = cv2.VideoCapture(video_path)\n",
    "    frame_count = 1  # Start counting from 1\n",
    "\n",
    "    while True:\n",
    "        success, frame = video_capture.read()\n",
    "        if not success:\n",
    "            break\n",
    "\n",
    "        output_path = os.path.join(output_folder, f\"{shot_no}_frames_jpg\\{frame_count}.jpg\")\n",
    "        cv2.imwrite(output_path, frame)\n",
    "        frame_count += 1\n",
    "    video_capture.release()\n",
    "\n",
    "\n",
    "#extract videos\n",
    "all_videos = []\n",
    "shot_nos = []\n",
    "for f in folders:\n",
    "    fname = [vid.split(sep = \".\")[0] for vid in os.listdir(f) if vid.lower().endswith(\".avi\")]\n",
    "    fvideos = [os.path.join(f,vid) for vid in os.listdir(f) if vid.lower().endswith(\".avi\")]\n",
    "    shot_nos.extend(fname)\n",
    "    all_videos.extend(fvideos)\n",
    "\n",
    "TT1_frame_dir = r\"C:\\Users\\pitit\\Documents\\02_MUIC_programming\\ICPY_441_Senior_project_in_physics\\plasmaColumnPosition\\resources\\TTI frame\\\\\"\n",
    "for i in range(len(all_videos)):\n",
    "    extract_frames(shot_nos[i],all_videos[i],TT1_frame_dir)"
   ]
  },
  {
   "cell_type": "markdown",
   "id": "58c1e19e",
   "metadata": {},
   "source": [
    "## Toroidal Filament"
   ]
  },
  {
   "cell_type": "code",
   "execution_count": 4,
   "id": "2945d328",
   "metadata": {},
   "outputs": [],
   "source": [
    "#read time and measurement from text files\n",
    "def txt_to_list(path):\n",
    "\n",
    "    def is_float_digit(n: str) -> bool:\n",
    "     try:\n",
    "         float(n)\n",
    "         return True\n",
    "     except ValueError:\n",
    "         return False\n",
    "     \n",
    "    time_arr, data_arr = [], []\n",
    "    shot_no = None\n",
    "    with open(path, \"r\") as file:\n",
    "        for line in file:\n",
    "            if line.strip():  # Ignore empty lines\n",
    "                parts = line.split()\n",
    "                if parts[0] == \"ShotNo\": shot_no = int(parts[2])\n",
    "                if not is_float_digit(parts[0]): continue\n",
    "\n",
    "                time, data = float(parts[0]), float(parts[1])\n",
    "                \n",
    "                time_arr.append(time)\n",
    "                data_arr.append(data)\n",
    "\n",
    "    return shot_no, time_arr, data_arr"
   ]
  },
  {
   "cell_type": "markdown",
   "id": "d43dbfb0",
   "metadata": {},
   "source": [
    "### Plasma current"
   ]
  },
  {
   "cell_type": "code",
   "execution_count": null,
   "id": "a4702829",
   "metadata": {},
   "outputs": [],
   "source": [
    "IP_spreadsheet = r\"C:\\Users\\pitit\\Documents\\02_MUIC_programming\\ICPY_441_Senior_project_in_physics\\plasmaColumnPosition\\resources\\magneticSignal\\Plasma current for plasma position.xlsx\"\n",
    "wb = load_workbook(IP_spreadsheet)\n",
    "\n",
    "ws = wb[\"Sheet1\"]\n",
    "\n",
    "#plasma current for each shots\n",
    "all_IP1 = []\n",
    "for f in folders:\n",
    "    ip1_path = os.path.join(f, \"IP1.txt\")\n",
    "    if os.path.isfile(ip1_path):\n",
    "        all_IP1.append(ip1_path)\n",
    "    else: raise FileNotFoundError(f\"{ip1_path} does not exist\")\n",
    "\n",
    "#sort from smallest to largest shot number\n",
    "all_IP1 = sorted(all_IP1, key=lambda path: int(os.path.basename(os.path.dirname(path))))"
   ]
  },
  {
   "cell_type": "code",
   "execution_count": null,
   "id": "992c561c",
   "metadata": {},
   "outputs": [],
   "source": [
    "#function to write values into the plasma current spreadsheet\n",
    "def edit_IP_spreadsheet(ws,IP_path,column):\n",
    "    shot_no,_, IP_data = txt_to_list(IP_path)\n",
    "    ws.cell(row = 1,column=column).value = shot_no\n",
    "\n",
    "    for row, plasma_current in enumerate(IP_data,start = 2):\n",
    "        ws.cell(row = row, column = column).value = plasma_current\n",
    "    \n",
    "    wb.save(IP_spreadsheet)\n",
    "\n",
    "column = 9\n",
    "for i in range(len(all_IP1)):\n",
    "    edit_IP_spreadsheet(ws,all_IP1[i],column)\n",
    "    column += 1"
   ]
  },
  {
   "cell_type": "markdown",
   "id": "0bb809d1",
   "metadata": {},
   "source": [
    "### Magnetic probe signal"
   ]
  },
  {
   "cell_type": "code",
   "execution_count": 26,
   "id": "62fe3838",
   "metadata": {},
   "outputs": [],
   "source": [
    "workbook_path = r\"C:\\Users\\pitit\\Documents\\02_MUIC_programming\\ICPY_441_Senior_project_in_physics\\plasmaColumnPosition\\resources\\Magnetic probe GBP_T for plasma position.xlsx\"\n",
    "workbook = load_workbook(workbook_path)"
   ]
  },
  {
   "cell_type": "code",
   "execution_count": 35,
   "id": "cf5e252e",
   "metadata": {},
   "outputs": [
    {
     "name": "stderr",
     "output_type": "stream",
     "text": [
      "100%|██████████| 13/13 [22:15<00:00, 102.76s/it]\n"
     ]
    }
   ],
   "source": [
    "def new_shot_signal(workbook,workbook_path,dir_path):\n",
    "    shot_no = os.path.basename(dir_path)\n",
    "    new_sheet = workbook.create_sheet(title=f\"shot_{shot_no}\")\n",
    "\n",
    "    #extract signal at each probes\n",
    "    signal_files = [os.path.join(dir_path,file) for file in os.listdir(dir_path) if file[:3] == \"GBP\" and (file[4] == \"T\" or file[5] == \"T\")]\n",
    "\n",
    "    def extract_number(filename): #function to sort list by probe numbers\n",
    "        match = re.search(r'GBP(\\d+)[Tt]', filename)\n",
    "        return int(match.group(1)) if match else float('inf')\n",
    "    \n",
    "    #sort signals by probe numbers\n",
    "    signal_files = sorted(signal_files, key=lambda path: extract_number(os.path.basename(path)))\n",
    "\n",
    "    #create header of new sheet\n",
    "    headers = [\"Time (ms)\"] + [\"GBP\" + f\"{i}\" + \"T\" for i in range(1,13)]\n",
    "\n",
    "    for i, head in enumerate(headers, start = 1):\n",
    "        new_sheet.cell(row = 1, column = i).value = head\n",
    "\n",
    "    #fill in values of each columns\n",
    "\n",
    "    #time column\n",
    "    _, time, _ = txt_to_list(signal_files[0])\n",
    "\n",
    "    for row, t in enumerate(time, start = 2):\n",
    "        new_sheet.cell(row=row,column=1).value = t\n",
    "\n",
    "    #signal columns\n",
    "    for i in range(len(signal_files)):\n",
    "        _, _, all_time_signal = txt_to_list(signal_files[i])\n",
    "        \n",
    "        for row, signal in enumerate(all_time_signal,start = 2):\n",
    "            new_sheet.cell(row=row,column=i+2).value = signal\n",
    "\n",
    "    workbook.save(workbook_path)\n",
    "\n",
    "for f in tqdm(folders):\n",
    "    new_shot_signal(workbook,workbook_path,f)"
   ]
  }
 ],
 "metadata": {
  "kernelspec": {
   "display_name": "base",
   "language": "python",
   "name": "python3"
  },
  "language_info": {
   "codemirror_mode": {
    "name": "ipython",
    "version": 3
   },
   "file_extension": ".py",
   "mimetype": "text/x-python",
   "name": "python",
   "nbconvert_exporter": "python",
   "pygments_lexer": "ipython3",
   "version": "3.12.7"
  }
 },
 "nbformat": 4,
 "nbformat_minor": 5
}
