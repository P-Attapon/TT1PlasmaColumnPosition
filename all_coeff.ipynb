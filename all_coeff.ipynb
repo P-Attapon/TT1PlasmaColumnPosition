{
 "cells": [
  {
   "cell_type": "markdown",
   "id": "37c74c6f",
   "metadata": {},
   "source": [
    "# Determine all coefficinets of each possible pairing"
   ]
  },
  {
   "cell_type": "code",
   "execution_count": 1,
   "id": "4bcd91d0",
   "metadata": {
    "ExecuteTime": {
     "end_time": "2025-04-26T11:06:51.133618Z",
     "start_time": "2025-04-26T11:06:51.130887Z"
    }
   },
   "outputs": [],
   "source": [
    "from toroidalFilament_dir.geometry_TT1 import coil_angle_dict as angle_dict\n",
    "from toroidalFilament_dir.plasma_shift import cal_alpha, cal_beta\n",
    "from toroidalFilament_dir.DxDz import cal_newton_DxDz as cal_DxDz\n",
    "from bintrees import AVLTree\n",
    "import numpy as np\n",
    "from tqdm import tqdm\n",
    "import pickle"
   ]
  },
  {
   "cell_type": "code",
   "execution_count": 2,
   "id": "f40c75db",
   "metadata": {
    "ExecuteTime": {
     "end_time": "2025-04-26T09:19:42.428686Z",
     "start_time": "2025-04-26T09:19:42.424396Z"
    }
   },
   "outputs": [],
   "source": [
    "pair_names = [[i,i-6] for i in range(11,13)] + [[i,i+6] for i in range(1,5)] #names of probes in each crosses\n",
    "pair_angles = [[angle_dict[i], angle_dict[i-6]] for i in range(11,13)] + [[angle_dict[i], angle_dict[i+6]] for i in range(1,5)] #angle of probes in each cross\n",
    "\n",
    "#Determine all possible probe arrays\n",
    "def count_all_arrays(lst):\n",
    "    #find all possible arrays\n",
    "    all_arrays = []\n",
    "    for i in range(len(lst)):\n",
    "        for j in range(i+1,len(lst)):\n",
    "\n",
    "            i_pair, j_pair = lst[i], lst[j]\n",
    "\n",
    "            new_array = i_pair + j_pair\n",
    "            if new_array not in all_arrays: all_arrays.append(new_array)\n",
    "\n",
    "    #lst stores data in terms of opposing probes, rearrange in terms of counter-clockwise\n",
    "    for i in range(len(all_arrays)):\n",
    "        temp = all_arrays[i][1]\n",
    "        all_arrays[i][1] = all_arrays[i][2]\n",
    "        all_arrays[i][2] = temp\n",
    "\n",
    "    return all_arrays\n",
    "\n",
    "all_arrays_names = count_all_arrays(pair_names)\n",
    "all_arrays_angles = count_all_arrays(pair_angles)"
   ]
  },
  {
   "cell_type": "code",
   "execution_count": 3,
   "id": "5793598edba95248",
   "metadata": {
    "ExecuteTime": {
     "end_time": "2025-04-26T10:15:29.786574Z",
     "start_time": "2025-04-26T10:15:29.782955Z"
    }
   },
   "outputs": [],
   "source": [
    "def probe_lst_to_str(lst):\n",
    "    arr_str = \"\"\n",
    "    for i, probe_num in enumerate(arr_name):\n",
    "        if i == 0:\n",
    "            arr_str += str(probe_num)\n",
    "        else: arr_str += \" \" + str(probe_num)\n",
    "    return arr_str"
   ]
  },
  {
   "cell_type": "code",
   "execution_count": 4,
   "id": "a93760f9b6a6bc26",
   "metadata": {
    "ExecuteTime": {
     "end_time": "2025-04-26T09:20:16.022111Z",
     "start_time": "2025-04-26T09:20:16.018886Z"
    }
   },
   "outputs": [
    {
     "name": "stdout",
     "output_type": "stream",
     "text": [
      "\n",
      "number of arrays: 15\n",
      "all possible arrays: [[11, 12, 5, 6], [11, 1, 5, 7], [11, 2, 5, 8], [11, 3, 5, 9], [11, 4, 5, 10], [12, 1, 6, 7], [12, 2, 6, 8], [12, 3, 6, 9], [12, 4, 6, 10], [1, 2, 7, 8], [1, 3, 7, 9], [1, 4, 7, 10], [2, 3, 8, 9], [2, 4, 8, 10], [3, 4, 9, 10]]\n",
      "\n"
     ]
    }
   ],
   "source": [
    "print(f\"\"\"\n",
    "number of arrays: {len(all_arrays_names)}\n",
    "all possible arrays: {all_arrays_names}\n",
    "\"\"\")"
   ]
  },
  {
   "cell_type": "markdown",
   "id": "b8e695b3e4fd003f",
   "metadata": {},
   "source": [
    "# Store coefficients in a dictionary of trees"
   ]
  },
  {
   "cell_type": "code",
   "execution_count": 5,
   "id": "27ea755364653554",
   "metadata": {
    "ExecuteTime": {
     "end_time": "2025-04-26T10:15:57.682318Z",
     "start_time": "2025-04-26T10:15:57.679234Z"
    }
   },
   "outputs": [],
   "source": [
    "# create dictionary to store AVLtrees\n",
    "alpha_dict = dict()\n",
    "for arr_name in all_arrays_names:\n",
    "    arr_str = probe_lst_to_str(arr_name)\n",
    "    alpha_dict[arr_str] = None\n",
    "\n",
    "beta_dict = alpha_dict.copy()"
   ]
  },
  {
   "cell_type": "code",
   "execution_count": 6,
   "id": "85a321d5bf8e0ae9",
   "metadata": {
    "ExecuteTime": {
     "end_time": "2025-04-26T10:57:02.136121Z",
     "start_time": "2025-04-26T10:55:08.622070Z"
    }
   },
   "outputs": [
    {
     "name": "stderr",
     "output_type": "stream",
     "text": [
      "  0%|          | 0/15 [00:00<?, ?it/s]"
     ]
    },
    {
     "name": "stderr",
     "output_type": "stream",
     "text": [
      "100%|██████████| 15/15 [04:03<00:00, 16.25s/it]\n"
     ]
    }
   ],
   "source": [
    "#find calculate coefficients for each probes\n",
    "\n",
    "def mk_shift_tree(lst_angles:list[float],shift_lst:list[float],shift_domain:list[float],coeff_callable:callable,taylor_order:int):\n",
    "    \"\"\"\n",
    "    calculate coefficients and covariance of shift\n",
    "    Args:\n",
    "        lst_angles: angles of each probes in radian\n",
    "        shift_lst: value of shift in the direction of coeff_callable\n",
    "        shift_domain: domain of curve to be fit\n",
    "        coeff_callable: function to calculate coefficients alpha/beta\n",
    "        taylor_order: order of taylor expansion\n",
    "\n",
    "    Returns: tree of coefficients\n",
    "    \"\"\"\n",
    "    coeff_tree = AVLTree()\n",
    "    for shift_amount in shift_lst:\n",
    "        shift_coeff_cov = coeff_callable(cal_DxDz,0,taylor_order,shift_amount,lst_angles,shift_domain)\n",
    "        coeff_tree.insert(shift_amount,shift_coeff_cov)\n",
    "    \n",
    "    return coeff_tree\n",
    "\n",
    "shift_domain = np.arange(-0.13,0.13,0.001) #all shift values by 1 mm\n",
    "for i in tqdm(range(len(all_arrays_names))):\n",
    "    #determine name of array and convert to string\n",
    "    arr_name = all_arrays_names[i]\n",
    "    arr_str = probe_lst_to_str(arr_name)\n",
    "    \n",
    "    #retreive the relative angle of each probe\n",
    "    arr_angles = all_arrays_angles[i]\n",
    "    \n",
    "    #create tree for alpha and beta\n",
    "    alpha_tree = mk_shift_tree(arr_angles,shift_lst = shift_domain,shift_domain=shift_domain,coeff_callable=cal_alpha,taylor_order=3)\n",
    "    beta_tree = mk_shift_tree(arr_angles,shift_lst = shift_domain,shift_domain=shift_domain,coeff_callable=cal_beta,taylor_order=3)\n",
    "\n",
    "    alpha_dict[arr_str] = alpha_tree\n",
    "    beta_dict[arr_str] = beta_tree\n"
   ]
  },
  {
   "cell_type": "code",
   "execution_count": 7,
   "id": "d3ce8110cfbe04c5",
   "metadata": {
    "ExecuteTime": {
     "end_time": "2025-04-26T11:05:36.842590Z",
     "start_time": "2025-04-26T11:05:36.839290Z"
    }
   },
   "outputs": [],
   "source": [
    "def find_nearest(num,tree):\n",
    "    \"\"\"\n",
    "    find value of nearest key neighbor of a given tree\n",
    "    Args:\n",
    "        num: input number to find nearest key's value number\n",
    "        tree: tree to be traversed\n",
    "\n",
    "    Returns: value of the nearest key\n",
    "    \"\"\"\n",
    "    tree.insert(num,num)\n",
    "\n",
    "    if tree.max_key() == num:\n",
    "        result = tree.prev_item(num)[1]\n",
    "        tree.remove(num)\n",
    "        return result\n",
    "\n",
    "    elif tree.min_key() == num:\n",
    "        result = tree.succ_item(num)[1]\n",
    "        tree.remove(num)\n",
    "        return result\n",
    "\n",
    "    (left_key,left_value), (right_key,right_value) = tree.prev_item(num), tree.succ_item(num)\n",
    "    tree.remove(num)\n",
    "\n",
    "    min_diff = min(abs(left_key - num), (abs(right_key - num)))\n",
    "    if min_diff == left_key:\n",
    "        return left_value\n",
    "\n",
    "    return right_value"
   ]
  },
  {
   "cell_type": "code",
   "execution_count": 8,
   "id": "b6d4946a57a578a0",
   "metadata": {
    "ExecuteTime": {
     "end_time": "2025-04-26T11:05:46.323978Z",
     "start_time": "2025-04-26T11:05:46.319913Z"
    }
   },
   "outputs": [
    {
     "name": "stdout",
     "output_type": "stream",
     "text": [
      "<class 'numpy.ndarray'>\n"
     ]
    }
   ],
   "source": [
    "popt, pcov = find_nearest(100,alpha_dict[\"11 2 5 8\"])\n",
    "\n",
    "print(type(pcov))"
   ]
  },
  {
   "cell_type": "code",
   "execution_count": 9,
   "id": "d5001f9eca0b4ca6",
   "metadata": {
    "ExecuteTime": {
     "end_time": "2025-04-26T11:10:34.063568Z",
     "start_time": "2025-04-26T11:10:34.004884Z"
    }
   },
   "outputs": [],
   "source": [
    "with open(\"shift_coefficients.pkl\",\"wb\") as f:\n",
    "    pickle.dump(alpha_dict,f)\n",
    "    pickle.dump(beta_dict,f)"
   ]
  },
  {
   "cell_type": "code",
   "execution_count": null,
   "id": "93c034e6",
   "metadata": {},
   "outputs": [],
   "source": []
  }
 ],
 "metadata": {
  "kernelspec": {
   "display_name": "base",
   "language": "python",
   "name": "python3"
  },
  "language_info": {
   "codemirror_mode": {
    "name": "ipython",
    "version": 3
   },
   "file_extension": ".py",
   "mimetype": "text/x-python",
   "name": "python",
   "nbconvert_exporter": "python",
   "pygments_lexer": "ipython3",
   "version": "3.12.7"
  }
 },
 "nbformat": 4,
 "nbformat_minor": 5
}
