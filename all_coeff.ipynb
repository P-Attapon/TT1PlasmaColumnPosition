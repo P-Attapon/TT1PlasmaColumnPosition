{
 "cells": [
  {
   "cell_type": "markdown",
   "id": "37c74c6f",
   "metadata": {},
   "source": [
    "# Determine all coefficinets of each possible pairing"
   ]
  },
  {
   "cell_type": "code",
   "id": "4bcd91d0",
   "metadata": {
    "ExecuteTime": {
     "end_time": "2025-04-26T11:06:51.133618Z",
     "start_time": "2025-04-26T11:06:51.130887Z"
    }
   },
   "source": [
    "from toroidalFilament_dir.geometry_TT1 import coil_angle_dict as angle_dict\n",
    "from toroidalFilament_dir.plasma_shift import cal_alpha, cal_beta\n",
    "from toroidalFilament_dir.DxDz import cal_newton_DxDz as cal_DxDz\n",
    "from bintrees import AVLTree\n",
    "import numpy as np\n",
    "from tqdm import tqdm\n",
    "import pickle"
   ],
   "outputs": [],
   "execution_count": 175
  },
  {
   "cell_type": "code",
   "id": "f40c75db",
   "metadata": {
    "ExecuteTime": {
     "end_time": "2025-04-26T09:19:42.428686Z",
     "start_time": "2025-04-26T09:19:42.424396Z"
    }
   },
   "source": [
    "pair_names = [[i,i-6] for i in range(11,13)] + [[i,i+6] for i in range(1,5)] #names of probes in each crosses\n",
    "pair_angles = [[angle_dict[i], angle_dict[i-6]] for i in range(11,13)] + [[angle_dict[i], angle_dict[i+6]] for i in range(1,5)] #angle of probes in each cross\n",
    "\n",
    "#Determine all possible probe arrays\n",
    "def count_all_arrays(lst):\n",
    "    #find all possible arrays\n",
    "    all_arrays = []\n",
    "    for i in range(len(lst)):\n",
    "        for j in range(i+1,len(lst)):\n",
    "\n",
    "            i_pair, j_pair = lst[i], lst[j]\n",
    "\n",
    "            new_array = i_pair + j_pair\n",
    "            if new_array not in all_arrays: all_arrays.append(new_array)\n",
    "\n",
    "    #lst stores data in terms of opposing probes, rearrange in terms of counter-clockwise\n",
    "    for i in range(len(all_arrays)):\n",
    "        temp = all_arrays[i][1]\n",
    "        all_arrays[i][1] = all_arrays[i][2]\n",
    "        all_arrays[i][2] = temp\n",
    "\n",
    "    return all_arrays\n",
    "\n",
    "all_arrays_names = count_all_arrays(pair_names)\n",
    "all_arrays_angles = count_all_arrays(pair_angles)"
   ],
   "outputs": [],
   "execution_count": 69
  },
  {
   "metadata": {
    "ExecuteTime": {
     "end_time": "2025-04-26T10:15:29.786574Z",
     "start_time": "2025-04-26T10:15:29.782955Z"
    }
   },
   "cell_type": "code",
   "source": [
    "def probe_lst_to_str(lst):\n",
    "    arr_str = \"\"\n",
    "    for i, probe_num in enumerate(arr_name):\n",
    "        if i == 0:\n",
    "            arr_str += str(probe_num)\n",
    "        else: arr_str += \" \" + str(probe_num)\n",
    "    return arr_str"
   ],
   "id": "5793598edba95248",
   "outputs": [],
   "execution_count": 122
  },
  {
   "metadata": {
    "ExecuteTime": {
     "end_time": "2025-04-26T09:20:16.022111Z",
     "start_time": "2025-04-26T09:20:16.018886Z"
    }
   },
   "cell_type": "code",
   "source": [
    "print(f\"\"\"\n",
    "number of arrays: {len(all_arrays)}\n",
    "all possible arrays: {all_arrays_names}\n",
    "\"\"\")"
   ],
   "id": "a93760f9b6a6bc26",
   "outputs": [
    {
     "name": "stdout",
     "output_type": "stream",
     "text": [
      "\n",
      "number of arrays: 15\n",
      "all possible arrays: [[11, 12, 5, 6], [11, 1, 5, 7], [11, 2, 5, 8], [11, 3, 5, 9], [11, 4, 5, 10], [12, 1, 6, 7], [12, 2, 6, 8], [12, 3, 6, 9], [12, 4, 6, 10], [1, 2, 7, 8], [1, 3, 7, 9], [1, 4, 7, 10], [2, 3, 8, 9], [2, 4, 8, 10], [3, 4, 9, 10]]\n",
      "\n"
     ]
    }
   ],
   "execution_count": 70
  },
  {
   "metadata": {},
   "cell_type": "markdown",
   "source": "# Store coefficients in a dictionary of trees",
   "id": "b8e695b3e4fd003f"
  },
  {
   "metadata": {
    "ExecuteTime": {
     "end_time": "2025-04-26T10:15:57.682318Z",
     "start_time": "2025-04-26T10:15:57.679234Z"
    }
   },
   "cell_type": "code",
   "source": [
    "# create dictionary to store AVLtrees\n",
    "alpha_dict = dict()\n",
    "for arr_name in all_arrays_names:\n",
    "    arr_str = probe_lst_to_str(arr_name)\n",
    "    alpha_dict[arr_str] = None\n",
    "\n",
    "beta_dict = alpha_dict.copy()"
   ],
   "id": "27ea755364653554",
   "outputs": [],
   "execution_count": 125
  },
  {
   "metadata": {
    "ExecuteTime": {
     "end_time": "2025-04-26T10:57:02.136121Z",
     "start_time": "2025-04-26T10:55:08.622070Z"
    }
   },
   "cell_type": "code",
   "source": [
    "#find calculate coefficients for each probes\n",
    "\n",
    "def mk_shift_tree(lst_angles:list[float],shift_lst:list[float],shift_domain:list[float],coeff_callable:callable,taylor_order:int):\n",
    "    \"\"\"\n",
    "    calculate coefficients and covariance of shift\n",
    "    Args:\n",
    "        lst_angles: angles of each probes in radian\n",
    "        shift_lst: value of shift in the direction of coeff_callable\n",
    "        shift_domain: domain of curve to be fit\n",
    "        coeff_callable: function to calculate coefficients alpha/beta\n",
    "        taylor_order: order of taylor expansion\n",
    "\n",
    "    Returns: tree of coefficients\n",
    "    \"\"\"\n",
    "    coeff_tree = AVLTree()\n",
    "    for shift_amount in shift_lst:\n",
    "        shift_coeff_cov = coeff_callable(cal_DxDz,0,taylor_order,shift_amount,lst_angles,shift_domain)\n",
    "        coeff_tree.insert(shift_amount,shift_coeff_cov)\n",
    "    \n",
    "    return coeff_tree\n",
    "\n",
    "shift_domain = np.arange(-0.13,0.13,0.001) #all shift values by 1 mm\n",
    "for i in tqdm(range(len(all_arrays_names))):\n",
    "    #determine name of array and convert to string\n",
    "    arr_name = all_arrays_names[i]\n",
    "    arr_str = probe_lst_to_str(arr_name)\n",
    "    \n",
    "    #retreive the relative angle of each probe\n",
    "    arr_angles = all_arrays_angles[i]\n",
    "    \n",
    "    #create tree for alpha and beta\n",
    "    alpha_tree = mk_shift_tree(arr_angles,shift_lst = shift_domain,shift_domain=shift_domain,coeff_callable=cal_alpha,taylor_order=3)\n",
    "    beta_tree = mk_shift_tree(arr_angles,shift_lst = shift_domain,shift_domain=shift_domain,coeff_callable=cal_beta,taylor_order=3)\n",
    "\n",
    "    alpha_dict[arr_str] = alpha_tree\n",
    "    beta_dict[arr_str] = beta_tree\n"
   ],
   "id": "85a321d5bf8e0ae9",
   "outputs": [
    {
     "name": "stderr",
     "output_type": "stream",
     "text": [
      "100%|██████████| 15/15 [01:53<00:00,  7.57s/it]\n"
     ]
    }
   ],
   "execution_count": 153
  },
  {
   "metadata": {
    "ExecuteTime": {
     "end_time": "2025-04-26T10:57:12.216703Z",
     "start_time": "2025-04-26T10:57:12.212745Z"
    }
   },
   "cell_type": "code",
   "source": "alpha_dict[\"11 2 5 8\"][-0.13]",
   "id": "d88730d4ade2c072",
   "outputs": [
    {
     "data": {
      "text/plain": [
       "(array([ -0.02350816,  -1.2191999 ,  -1.3791194 , -17.84154794]),\n",
       " array([[ 1.95002830e-09,  1.15998453e-08, -5.04856684e-07,\n",
       "         -4.03892010e-06],\n",
       "        [ 1.15998453e-08,  1.04862622e-06, -6.59757785e-06,\n",
       "         -1.58797903e-04],\n",
       "        [-5.04856684e-07, -6.59757785e-06,  2.28174017e-04,\n",
       "          2.27297329e-03],\n",
       "        [-4.03892010e-06, -1.58797903e-04,  2.27297329e-03,\n",
       "          3.58127975e-02]]))"
      ]
     },
     "execution_count": 155,
     "metadata": {},
     "output_type": "execute_result"
    }
   ],
   "execution_count": 155
  },
  {
   "metadata": {
    "ExecuteTime": {
     "end_time": "2025-04-26T11:05:36.842590Z",
     "start_time": "2025-04-26T11:05:36.839290Z"
    }
   },
   "cell_type": "code",
   "source": [
    "def find_nearest(num,tree):\n",
    "    \"\"\"\n",
    "    find value of nearest key neighbor of a given tree\n",
    "    Args:\n",
    "        num: input number to find nearest key's value number\n",
    "        tree: tree to be traversed\n",
    "\n",
    "    Returns: value of the nearest key\n",
    "    \"\"\"\n",
    "    tree.insert(num,num)\n",
    "\n",
    "    if tree.max_key() == num:\n",
    "        result = tree.prev_item(num)[1]\n",
    "        tree.remove(num)\n",
    "        return result\n",
    "\n",
    "    elif tree.min_key() == num:\n",
    "        result = tree.succ_item(num)[1]\n",
    "        tree.remove(num)\n",
    "        return result\n",
    "\n",
    "    (left_key,left_value), (right_key,right_value) = tree.prev_item(num), tree.succ_item(num)\n",
    "    tree.remove(num)\n",
    "\n",
    "    min_diff = min(abs(left_key - num), (abs(right_key - num)))\n",
    "    if min_diff == left_key:\n",
    "        return left_key\n",
    "\n",
    "    return right_value"
   ],
   "id": "d3ce8110cfbe04c5",
   "outputs": [],
   "execution_count": 172
  },
  {
   "metadata": {
    "ExecuteTime": {
     "end_time": "2025-04-26T11:05:46.323978Z",
     "start_time": "2025-04-26T11:05:46.319913Z"
    }
   },
   "cell_type": "code",
   "source": "find_nearest(100,alpha_dict[\"11 2 5 8\"])",
   "id": "b6d4946a57a578a0",
   "outputs": [
    {
     "data": {
      "text/plain": [
       "(array([-0.01173408, -0.6683962 ,  0.93316647, -4.25094953]),\n",
       " array([[ 2.84899442e-08, -3.92574277e-08, -1.70251228e-06,\n",
       "          4.07332927e-06],\n",
       "        [-3.92574277e-08,  7.35566618e-06,  1.15058431e-05,\n",
       "         -3.52763635e-04],\n",
       "        [-1.70251228e-06,  1.15058431e-05,  1.78296678e-04,\n",
       "         -8.08999486e-04],\n",
       "        [ 4.07332927e-06, -3.52763635e-04, -8.08999486e-04,\n",
       "          2.00179172e-02]]))"
      ]
     },
     "execution_count": 174,
     "metadata": {},
     "output_type": "execute_result"
    }
   ],
   "execution_count": 174
  },
  {
   "metadata": {
    "ExecuteTime": {
     "end_time": "2025-04-26T11:10:34.063568Z",
     "start_time": "2025-04-26T11:10:34.004884Z"
    }
   },
   "cell_type": "code",
   "source": [
    "with open(\"shift_coefficients.pkl\",\"wb\") as f:\n",
    "    pickle.dump(alpha_dict,f)\n",
    "    pickle.dump(beta_dict,f)"
   ],
   "id": "d5001f9eca0b4ca6",
   "outputs": [],
   "execution_count": 180
  },
  {
   "metadata": {},
   "cell_type": "code",
   "outputs": [],
   "execution_count": null,
   "source": "",
   "id": "f1dc86d48e14d73e"
  }
 ],
 "metadata": {
  "kernelspec": {
   "display_name": "base",
   "language": "python",
   "name": "python3"
  },
  "language_info": {
   "codemirror_mode": {
    "name": "ipython",
    "version": 3
   },
   "file_extension": ".py",
   "mimetype": "text/x-python",
   "name": "python",
   "nbconvert_exporter": "python",
   "pygments_lexer": "ipython3",
   "version": "3.12.7"
  }
 },
 "nbformat": 4,
 "nbformat_minor": 5
}
