{
 "cells": [
  {
   "cell_type": "markdown",
   "id": "37c74c6f",
   "metadata": {},
   "source": [
    "# Determine all coefficinets of each possible pairing"
   ]
  },
  {
   "cell_type": "code",
   "execution_count": 3,
   "id": "4bcd91d0",
   "metadata": {},
   "outputs": [],
   "source": [
    "from geometry_TT1 import coil_angle_dict as angle_dict"
   ]
  },
  {
   "cell_type": "code",
   "execution_count": null,
   "id": "f40c75db",
   "metadata": {},
   "outputs": [],
   "source": [
    "all_names = [[i,i+6] for i in range(1,7)] #names of probes in each crosses\n",
    "all_pairs = [[angle_dict[i], angle_dict[i+6]] for i in range(1,7)] #angle of probes in each cross"
   ]
  },
  {
   "cell_type": "code",
   "execution_count": null,
   "id": "5b4301ce",
   "metadata": {},
   "outputs": [],
   "source": []
  }
 ],
 "metadata": {
  "kernelspec": {
   "display_name": "base",
   "language": "python",
   "name": "python3"
  },
  "language_info": {
   "codemirror_mode": {
    "name": "ipython",
    "version": 3
   },
   "file_extension": ".py",
   "mimetype": "text/x-python",
   "name": "python",
   "nbconvert_exporter": "python",
   "pygments_lexer": "ipython3",
   "version": "3.12.7"
  }
 },
 "nbformat": 4,
 "nbformat_minor": 5
}
